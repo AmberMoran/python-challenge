{
 "cells": [
  {
   "cell_type": "code",
   "execution_count": 9,
   "metadata": {},
   "outputs": [],
   "source": [
    "import csv\n",
    "import os\n"
   ]
  },
  {
   "cell_type": "code",
   "execution_count": 10,
   "metadata": {},
   "outputs": [
    {
     "ename": "SyntaxError",
     "evalue": "Missing parentheses in call to 'print'. Did you mean print(myset)? (<ipython-input-10-f0d857ce4005>, line 6)",
     "output_type": "error",
     "traceback": [
      "\u001b[1;36m  File \u001b[1;32m\"<ipython-input-10-f0d857ce4005>\"\u001b[1;36m, line \u001b[1;32m6\u001b[0m\n\u001b[1;33m    print myset\u001b[0m\n\u001b[1;37m              ^\u001b[0m\n\u001b[1;31mSyntaxError\u001b[0m\u001b[1;31m:\u001b[0m Missing parentheses in call to 'print'. Did you mean print(myset)?\n"
     ]
    }
   ],
   "source": [
    "voteList = []\n",
    "candidatelist = []\n",
    "total = []\n",
    "\n",
    "myset = set(mylist)\n",
    "print myset"
   ]
  },
  {
   "cell_type": "code",
   "execution_count": 13,
   "metadata": {},
   "outputs": [
    {
     "ename": "PermissionError",
     "evalue": "[Errno 13] Permission denied",
     "output_type": "error",
     "traceback": [
      "\u001b[1;31m---------------------------------------------------------------------------\u001b[0m",
      "\u001b[1;31mPermissionError\u001b[0m                           Traceback (most recent call last)",
      "\u001b[1;32m<ipython-input-13-9ee9f273307a>\u001b[0m in \u001b[0;36m<module>\u001b[1;34m()\u001b[0m\n\u001b[0;32m     11\u001b[0m     \u001b[0mreader\u001b[0m \u001b[1;33m=\u001b[0m \u001b[0mcsv\u001b[0m\u001b[1;33m.\u001b[0m\u001b[0mreader\u001b[0m\u001b[1;33m(\u001b[0m\u001b[0mfile\u001b[0m\u001b[1;33m,\u001b[0m\u001b[0mdelimiter\u001b[0m\u001b[1;33m=\u001b[0m\u001b[1;34m','\u001b[0m\u001b[1;33m)\u001b[0m\u001b[1;33m\u001b[0m\u001b[0m\n\u001b[0;32m     12\u001b[0m \u001b[1;33m\u001b[0m\u001b[0m\n\u001b[1;32m---> 13\u001b[1;33m     \u001b[0mheader\u001b[0m \u001b[1;33m=\u001b[0m \u001b[0mnext\u001b[0m\u001b[1;33m(\u001b[0m\u001b[0mreader\u001b[0m\u001b[1;33m)\u001b[0m\u001b[1;33m\u001b[0m\u001b[0m\n\u001b[0m\u001b[0;32m     14\u001b[0m \u001b[1;33m\u001b[0m\u001b[0m\n\u001b[0;32m     15\u001b[0m     \u001b[1;32mfor\u001b[0m \u001b[0mrow\u001b[0m \u001b[1;32min\u001b[0m \u001b[0mreader\u001b[0m\u001b[1;33m:\u001b[0m\u001b[1;33m\u001b[0m\u001b[0m\n",
      "\u001b[1;31mPermissionError\u001b[0m: [Errno 13] Permission denied"
     ]
    }
   ],
   "source": [
    "import csv\n",
    "import os\n",
    "\n",
    "voteList = []\n",
    "candidatelist = []\n",
    "#total = []\n",
    "\n",
    "pollcsv = os.path.join( \"data.csv\" )\n",
    "    \n",
    "with open (pollcsv,\"r\") as file: \n",
    "    reader = csv.reader(file,delimiter=',') \n",
    "    \n",
    "    header = next(reader)\n",
    "    \n",
    "    for row in reader:\n",
    "        voteList.append(1)\n",
    "        candidatelist.append(row[2])\n",
    "        #total.append(row)\n",
    "        \n",
    "    totalvotes = sum(voteList)\n",
    "    \n",
    "myset = set(candidatelist)\n",
    "print(myset)\n",
    "    \n",
    "   # print(totalvotes)\n",
    "    #print(candidatelist)"
   ]
  },
  {
   "cell_type": "code",
   "execution_count": 4,
   "metadata": {},
   "outputs": [],
   "source": [
    "#with open (\"data.csv\",\"r\") as file: \n",
    " #   reader = csv.reader(file) \n",
    "    \n",
    "  #  header = next(reader)\n",
    "    \n",
    "    \n",
    "    #for row in reader:\n",
    "     #   voteList.append(1)      \n",
    "      #  candidatelist.append(3)\n",
    "        #total.append(row)\n",
    "        \n",
    "    \n",
    "        \n",
    "        \n",
    "#totalvotes = sum(voteList)\n",
    "\n",
    "#print(totalvotes)\n",
    "#print(candidatelist)\n",
    "\n",
    "    "
   ]
  },
  {
   "cell_type": "code",
   "execution_count": null,
   "metadata": {},
   "outputs": [],
   "source": []
  },
  {
   "cell_type": "code",
   "execution_count": null,
   "metadata": {},
   "outputs": [],
   "source": []
  }
 ],
 "metadata": {
  "kernelspec": {
   "display_name": "Python 3",
   "language": "python",
   "name": "python3"
  },
  "language_info": {
   "codemirror_mode": {
    "name": "ipython",
    "version": 3
   },
   "file_extension": ".py",
   "mimetype": "text/x-python",
   "name": "python",
   "nbconvert_exporter": "python",
   "pygments_lexer": "ipython3",
   "version": "3.7.0"
  }
 },
 "nbformat": 4,
 "nbformat_minor": 2
}
