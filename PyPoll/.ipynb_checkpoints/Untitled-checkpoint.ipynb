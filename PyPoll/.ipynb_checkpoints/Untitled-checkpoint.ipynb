{
 "cells": [
  {
   "cell_type": "code",
   "execution_count": 17,
   "metadata": {},
   "outputs": [],
   "source": [
    "import csv\n",
    "import os"
   ]
  },
  {
   "cell_type": "code",
   "execution_count": 18,
   "metadata": {},
   "outputs": [],
   "source": [
    "voteList = []\n",
    "#candidates = set()\n",
    "total = []\n"
   ]
  },
  {
   "cell_type": "code",
   "execution_count": 24,
   "metadata": {},
   "outputs": [
    {
     "ename": "SyntaxError",
     "evalue": "'yield' outside function (<ipython-input-24-bc35e6cfdd8f>, line 11)",
     "output_type": "error",
     "traceback": [
      "\u001b[1;36m  File \u001b[1;32m\"<ipython-input-24-bc35e6cfdd8f>\"\u001b[1;36m, line \u001b[1;32m11\u001b[0m\n\u001b[1;33m    yield(row[0])\u001b[0m\n\u001b[1;37m    ^\u001b[0m\n\u001b[1;31mSyntaxError\u001b[0m\u001b[1;31m:\u001b[0m 'yield' outside function\n"
     ]
    }
   ],
   "source": [
    "with open (\"data.csv\",\"r\") as file: \n",
    "    reader = csv.reader(file) \n",
    "    \n",
    "    header = next(reader)\n",
    "    \n",
    "    for row in reader:\n",
    "        voteList.append(1)\n",
    "   \n",
    "\n",
    "        \n",
    "        #candidatelist.append(1)\n",
    "        \n",
    "  \n",
    "            \n",
    "            \n",
    "        #total.append(row)\n",
    "        \n",
    "    \n",
    "        \n",
    "        \n",
    "totalvotes = sum(voteList)\n",
    "\n",
    "    \n",
    "    #print(uniquecandidates)\n",
    "    #print(totalvotes)\n",
    "    "
   ]
  },
  {
   "cell_type": "code",
   "execution_count": null,
   "metadata": {},
   "outputs": [],
   "source": []
  },
  {
   "cell_type": "code",
   "execution_count": null,
   "metadata": {},
   "outputs": [],
   "source": []
  }
 ],
 "metadata": {
  "kernelspec": {
   "display_name": "Python 3",
   "language": "python",
   "name": "python3"
  },
  "language_info": {
   "codemirror_mode": {
    "name": "ipython",
    "version": 3
   },
   "file_extension": ".py",
   "mimetype": "text/x-python",
   "name": "python",
   "nbconvert_exporter": "python",
   "pygments_lexer": "ipython3",
   "version": "3.6.6"
  }
 },
 "nbformat": 4,
 "nbformat_minor": 2
}
