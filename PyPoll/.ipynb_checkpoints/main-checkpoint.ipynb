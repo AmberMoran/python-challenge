{
 "cells": [
  {
   "cell_type": "code",
   "execution_count": 135,
   "metadata": {},
   "outputs": [
    {
     "name": "stdout",
     "output_type": "stream",
     "text": [
      "Election Results\n",
      "Total Votes: 3521001\n",
      "Total votes per candidate: [('Khan', 2218231), ('Correy', 704200), ('Li', 492940), (\"O'Tooley\", 105630)]\n",
      "Percent of total votes: [('Khan', '63.0%'), ('Correy', '20.0%'), ('Li', '14.0%'), (\"O'Tooley\", '3.0%')]\n",
      "Winner: Khan\n"
     ]
    },
    {
     "data": {
      "text/plain": [
       "13"
      ]
     },
     "execution_count": 135,
     "metadata": {},
     "output_type": "execute_result"
    }
   ],
   "source": [
    "import csv\n",
    "import os\n",
    "import collections as ct\n",
    "\n",
    "\n",
    "voteList = []\n",
    "candidatelist = []\n",
    "\n",
    "\n",
    "pollcsv = os.path.join( \"election_data.csv\" )\n",
    "    \n",
    "with open (pollcsv,\"r\") as file: \n",
    "    reader = csv.reader(file,delimiter=',') \n",
    "    \n",
    "    votes = ct.Counter()\n",
    "    header = next(reader)\n",
    "    #c = Counter(votes)\n",
    "    \n",
    "    for row in reader:\n",
    "        voteList.append(1) #appends 1 to the end of each row        \n",
    "        candidatelist.append(row[2]) #adds candidates to candidatelist\n",
    "        candidate = row[-1] #counts votes by candidate, not sure exactly how, found this option by googling\n",
    "        votes[candidate] += 1\n",
    "        \n",
    "\n",
    "        \n",
    "        \n",
    "    totalvotes = sum(voteList) #counts all the 1's to get a total of votes\n",
    "    percent = {key: value/totalvotes * 100 for key, value in votes.items()}\n",
    "    winner = max(percent, key=percent.get)\n",
    "    summary = ([(totalvotes, str(round(count / sum(votes.values()) * 100.0, 3)) + '%') for totalvotes, count in votes.most_common()])\n",
    "   \n",
    "    \n",
    "        \n",
    "    \n",
    "    \n",
    "#myset = set(candidatelist) #using set to get a unique list of candidates \n",
    "#print(myset)\n",
    "#votes.most_common() #provides totals for each candidate\n",
    "#print(winner)\n",
    "\n",
    "print(\"Election Results\")\n",
    "print(\"Total Votes: \" + str(totalvotes))\n",
    "print(\"Total votes per candidate: \" + str(votes.most_common())) #I cannot figure out how to concatenate the votes and percent\n",
    "print(\"Percent of total votes: \" + str(summary))\n",
    "print(\"Winner: \" + winner)\n",
    "\n",
    "file = open(\"PyPoll_Summary.txt\",\"w\")\n",
    "    \n",
    "file.write(\"Election Results\"+\"\\n\")\n",
    "file.write(\"Total Votes: \" + str(totalvotes)+\"\\n\")\n",
    "file.write(\"Total votes per candidate: \" +  str(votes.most_common())+\"\\n\")\n",
    "file.write(\"Percent of total votes: \" + str(summary)+\"\\n\")\n",
    "file.write(\"Winner: \"+ winner + \"\\n\")\n",
    "   \n",
    "      \n",
    "  #-------------------------\n",
    "  #Total Votes: 3521001\n",
    "  #-------------------------\n",
    "  #Khan: 63.000% (2218231)\n",
    "  #Correy: 20.000% (704200)\n",
    "  #Li: 14.000% (492940)\n",
    "  #O'Tooley: 3.000% (105630)\n",
    "  #-------------------------\n",
    "  #Winner: Khan\n",
    "  #-------------------------\n",
    "    \n",
    "  \n",
    "\n",
    "\n",
    "\n",
    "\n",
    "\n",
    "\n"
   ]
  },
  {
   "cell_type": "code",
   "execution_count": null,
   "metadata": {},
   "outputs": [],
   "source": []
  },
  {
   "cell_type": "code",
   "execution_count": null,
   "metadata": {},
   "outputs": [],
   "source": []
  }
 ],
 "metadata": {
  "kernelspec": {
   "display_name": "Python 3",
   "language": "python",
   "name": "python3"
  },
  "language_info": {
   "codemirror_mode": {
    "name": "ipython",
    "version": 3
   },
   "file_extension": ".py",
   "mimetype": "text/x-python",
   "name": "python",
   "nbconvert_exporter": "python",
   "pygments_lexer": "ipython3",
   "version": "3.7.0"
  }
 },
 "nbformat": 4,
 "nbformat_minor": 2
}
